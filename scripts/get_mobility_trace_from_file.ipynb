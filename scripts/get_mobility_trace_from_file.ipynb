{
 "cells": [
  {
   "cell_type": "code",
   "execution_count": 1,
   "metadata": {},
   "outputs": [],
   "source": [
    "import csv\n",
    "import pickle"
   ]
  },
  {
   "cell_type": "code",
   "execution_count": 2,
   "metadata": {},
   "outputs": [],
   "source": [
    "headers = {\n",
    "    'date': 0,\n",
    "    'time': 1,\n",
    "    'id': 2,\n",
    "    'line': 3,\n",
    "    'latitude': 4,\n",
    "    'longitude': 5,\n",
    "    'speed': 6,\n",
    "}"
   ]
  },
  {
   "cell_type": "code",
   "execution_count": 3,
   "metadata": {},
   "outputs": [],
   "source": [
    "buses_ids = set()\n",
    "\n",
    "def convert_to_dict(row):\n",
    "    if len(row) == len(headers.keys()):\n",
    "        date, time, id, line, latitude, longitude, speed = row\n",
    "        buses_ids.add(id)\n",
    "        return {\n",
    "            'date': date,\n",
    "            'time': time,\n",
    "            'id': id,\n",
    "            'line': line,\n",
    "            'latitude': latitude,\n",
    "            'longitude': longitude,\n",
    "            'speed': speed\n",
    "        }\n",
    "\n",
    "    return {}\n"
   ]
  },
  {
   "cell_type": "code",
   "execution_count": 4,
   "metadata": {},
   "outputs": [],
   "source": [
    "with open('../data/all_buses_2014_10_03.csv', 'r') as csv_file:\n",
    "    data = csv.reader(csv_file)\n",
    "    rows = [convert_to_dict(row) for row in data]"
   ]
  },
  {
   "cell_type": "code",
   "execution_count": 5,
   "metadata": {},
   "outputs": [],
   "source": [
    "id = 'D863340'\n",
    "\n",
    "mobility_trace = list(filter(lambda row: 'id' in row.keys() and row['id'] == id, rows))"
   ]
  },
  {
   "cell_type": "code",
   "execution_count": 6,
   "metadata": {},
   "outputs": [],
   "source": [
    "with open(f'../data/{id}.txt', 'wb') as file:\n",
    "    pickle.dump(mobility_trace, file)"
   ]
  },
  {
   "cell_type": "code",
   "execution_count": 7,
   "metadata": {},
   "outputs": [
    {
     "data": {
      "text/plain": [
       "654"
      ]
     },
     "execution_count": 7,
     "metadata": {},
     "output_type": "execute_result"
    }
   ],
   "source": [
    "len(mobility_trace)"
   ]
  }
 ],
 "metadata": {
  "interpreter": {
   "hash": "31f2aee4e71d21fbe5cf8b01ff0e069b9275f58929596ceb00d14d90e3e16cd6"
  },
  "kernelspec": {
   "display_name": "Python 3.9.7 64-bit",
   "language": "python",
   "name": "python3"
  },
  "language_info": {
   "codemirror_mode": {
    "name": "ipython",
    "version": 3
   },
   "file_extension": ".py",
   "mimetype": "text/x-python",
   "name": "python",
   "nbconvert_exporter": "python",
   "pygments_lexer": "ipython3",
   "version": "3.9.7"
  },
  "orig_nbformat": 4
 },
 "nbformat": 4,
 "nbformat_minor": 2
}

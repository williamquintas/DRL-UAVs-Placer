{
 "cells": [
  {
   "cell_type": "code",
   "execution_count": 5,
   "metadata": {},
   "outputs": [],
   "source": [
    "import pickle\n",
    "import json"
   ]
  },
  {
   "cell_type": "code",
   "execution_count": 3,
   "metadata": {},
   "outputs": [],
   "source": [
    "id = 'D863340'\n",
    "with open(f'../data/{id}.pickle', 'rb') as file:\n",
    "    mobility_trace = pickle.load(file)"
   ]
  },
  {
   "cell_type": "code",
   "execution_count": 7,
   "metadata": {},
   "outputs": [],
   "source": [
    "with open(f'../data/{id}.json', 'w') as json_file:\n",
    "    json_file.write(json.dumps(mobility_trace))"
   ]
  },
  {
   "cell_type": "code",
   "execution_count": 8,
   "metadata": {},
   "outputs": [],
   "source": [
    "headers = {\n",
    "    'date': 0,\n",
    "    'time': 1,\n",
    "    'id': 2,\n",
    "    'line': 3,\n",
    "    'latitude': 4,\n",
    "    'longitude': 5,\n",
    "    'speed': 6,\n",
    "}"
   ]
  },
  {
   "cell_type": "code",
   "execution_count": 10,
   "metadata": {},
   "outputs": [],
   "source": [
    "with open(f'../data/{id}.csv', 'w') as csv_file:\n",
    "    csv_file.write(','.join(headers.keys()))\n",
    "    csv_file.write('\\n')\n",
    "    \n",
    "    for row in mobility_trace:\n",
    "        csv_file.write(','.join(row.values()))\n",
    "        csv_file.write('\\n')\n"
   ]
  },
  {
   "cell_type": "code",
   "execution_count": 2,
   "metadata": {},
   "outputs": [
    {
     "name": "stdout",
     "output_type": "stream",
     "text": [
      "latitude 8.203630859502804\n",
      "longitude 6.215892654969549\n",
      "latitude 8.205032375008019\n",
      "longitude 6.215892654969549\n",
      "latitude 8.206247021779646\n",
      "longitude 6.21551345875698\n",
      "latitude 8.208956618423281\n",
      "longitude 6.2171385853815595\n",
      "latitude 8.208956618423281\n",
      "longitude 6.2171385853815595\n",
      "latitude 8.208956618423281\n",
      "longitude 6.2171385853815595\n",
      "latitude 8.210358133928827\n",
      "longitude 6.214484211895117\n",
      "latitude 8.210358133928827\n",
      "longitude 6.214484211895117\n",
      "latitude 8.210358133928827\n",
      "longitude 6.214484211895117\n",
      "latitude 8.217178842721976\n",
      "longitude 6.215080091657066\n",
      "set.dr1.setPosition(\"62.158926549695494,8.203630859502804,0.0\")\n",
      "set.dr1.setPosition(\"62.158926549695494,8.205032375008019,0.0\")\n",
      "set.dr1.setPosition(\"62.1551345875698,8.206247021779646,0.0\")\n",
      "set.dr1.setPosition(\"62.17138585381559,8.208956618423281,0.0\")\n",
      "set.dr1.setPosition(\"62.17138585381559,8.208956618423281,0.0\")\n",
      "set.dr1.setPosition(\"62.17138585381559,8.208956618423281,0.0\")\n",
      "set.dr1.setPosition(\"62.144842118951175,8.210358133928827,0.0\")\n",
      "set.dr1.setPosition(\"62.144842118951175,8.210358133928827,0.0\")\n",
      "set.dr1.setPosition(\"62.144842118951175,8.210358133928827,0.0\")\n",
      "set.dr1.setPosition(\"62.15080091657066,8.217178842721976,0.0\")\n"
     ]
    }
   ],
   "source": [
    "import csv\n",
    "from itertools import islice\n",
    "\n",
    "id = 'D863340'\n",
    "filter_longitude_latitude_headers = lambda column: column[0] == 'latitude' \\\n",
    "                                                or column[0] == 'longitude'\n",
    "\n",
    "with open(f'../data/{id}_normalized.csv', 'r') as csv_file:\n",
    "    data = csv.reader(csv_file)\n",
    "\n",
    "    headers = next(data, None)\n",
    "\n",
    "    coordinates_list = []\n",
    "    for row in islice(data, 0, 10):\n",
    "        coordinate = {}\n",
    "\n",
    "        for header, value in tuple(filter(filter_longitude_latitude_headers, zip(headers, row))):\n",
    "            coordinate[header]= value\n",
    "            \n",
    "        coordinates_list.append(coordinate)\n",
    "\n",
    "    for coordinate in coordinates_list:\n",
    "        command = \"set.{}.setPosition(\\\"{},{},0.0\\\")\".format('dr1', str(float(coordinate['longitude'])*10.0), str(coordinate['latitude']))\n",
    "        print(command)"
   ]
  },
  {
   "cell_type": "code",
   "execution_count": null,
   "metadata": {},
   "outputs": [],
   "source": []
  }
 ],
 "metadata": {
  "interpreter": {
   "hash": "31f2aee4e71d21fbe5cf8b01ff0e069b9275f58929596ceb00d14d90e3e16cd6"
  },
  "kernelspec": {
   "display_name": "Python 3.9.7 64-bit",
   "language": "python",
   "name": "python3"
  },
  "language_info": {
   "codemirror_mode": {
    "name": "ipython",
    "version": 3
   },
   "file_extension": ".py",
   "mimetype": "text/x-python",
   "name": "python",
   "nbconvert_exporter": "python",
   "pygments_lexer": "ipython3",
   "version": "3.9.7"
  },
  "orig_nbformat": 4
 },
 "nbformat": 4,
 "nbformat_minor": 2
}

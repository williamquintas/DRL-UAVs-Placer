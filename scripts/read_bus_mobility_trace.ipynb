{
 "cells": [
  {
   "cell_type": "code",
   "execution_count": 5,
   "metadata": {},
   "outputs": [],
   "source": [
    "import pickle\n",
    "import json"
   ]
  },
  {
   "cell_type": "code",
   "execution_count": 3,
   "metadata": {},
   "outputs": [],
   "source": [
    "id = 'D863340'\n",
    "with open(f'../data/{id}.pickle', 'rb') as file:\n",
    "    mobility_trace = pickle.load(file)"
   ]
  },
  {
   "cell_type": "code",
   "execution_count": 7,
   "metadata": {},
   "outputs": [],
   "source": [
    "with open(f'../data/{id}.json', 'w') as json_file:\n",
    "    json_file.write(json.dumps(mobility_trace))"
   ]
  },
  {
   "cell_type": "code",
   "execution_count": 8,
   "metadata": {},
   "outputs": [],
   "source": [
    "headers = {\n",
    "    'date': 0,\n",
    "    'time': 1,\n",
    "    'id': 2,\n",
    "    'line': 3,\n",
    "    'latitude': 4,\n",
    "    'longitude': 5,\n",
    "    'speed': 6,\n",
    "}"
   ]
  },
  {
   "cell_type": "code",
   "execution_count": 10,
   "metadata": {},
   "outputs": [],
   "source": [
    "with open(f'../data/{id}.csv', 'w') as csv_file:\n",
    "    csv_file.write(','.join(headers.keys()))\n",
    "    csv_file.write('\\n')\n",
    "    \n",
    "    for row in mobility_trace:\n",
    "        csv_file.write(','.join(row.values()))\n",
    "        csv_file.write('\\n')\n"
   ]
  }
 ],
 "metadata": {
  "interpreter": {
   "hash": "31f2aee4e71d21fbe5cf8b01ff0e069b9275f58929596ceb00d14d90e3e16cd6"
  },
  "kernelspec": {
   "display_name": "Python 3.9.7 64-bit",
   "language": "python",
   "name": "python3"
  },
  "language_info": {
   "codemirror_mode": {
    "name": "ipython",
    "version": 3
   },
   "file_extension": ".py",
   "mimetype": "text/x-python",
   "name": "python",
   "nbconvert_exporter": "python",
   "pygments_lexer": "ipython3",
   "version": "3.9.7"
  },
  "orig_nbformat": 4
 },
 "nbformat": 4,
 "nbformat_minor": 2
}

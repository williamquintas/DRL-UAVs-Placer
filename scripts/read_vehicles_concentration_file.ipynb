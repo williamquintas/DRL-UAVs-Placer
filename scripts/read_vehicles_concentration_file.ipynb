{
 "cells": [
  {
   "cell_type": "code",
   "execution_count": 1,
   "metadata": {},
   "outputs": [],
   "source": [
    "import numpy as np\n",
    "import matplotlib.pyplot as plt\n",
    "import matplotlib.cm as cm\n",
    "import matplotlib.animation as animation"
   ]
  },
  {
   "cell_type": "markdown",
   "metadata": {},
   "source": [
    "For vehicle mobility and to be as realistic as possible,\n",
    "we use an available dataset [26] with real-time position data\n",
    "reported by buses in Rio. The vehicle mobility dataset is in\n",
    "24h time format. For our experiments, we select one week’s\n",
    "worth of vehicle data, i.e., $ = 7, and consider every 15\n",
    "minutes to be one step ∆τ = 15, which means that the\n",
    "agent takes actions every 15 minutes. For one day, there are\n",
    "96 steps in total (T = 96). Fig. 5 shows a time series of\n",
    "number of vehicles |Vt| over time t for the 7-day period\n",
    "considered, as well as the 68% confidence interval. Note that\n",
    "the intervals ∆τ can be set smaller, e.g., 5 minutes and 3 minutes. However, we find 15 minutes a reasonable interval\n",
    "for this dataset because this interval can provide an apparent\n",
    "variation on vehicular distribution between steps"
   ]
  },
  {
   "cell_type": "code",
   "execution_count": 2,
   "metadata": {},
   "outputs": [],
   "source": [
    "with open('data/F_G_Rio_3km.pickle', 'rb') as file:\n",
    "    data = np.load(file, allow_pickle=True)"
   ]
  },
  {
   "cell_type": "code",
   "execution_count": 3,
   "metadata": {},
   "outputs": [
    {
     "data": {
      "image/png": "[encoded data removed]",
      "text/plain": [
       "<Figure size 432x288 with 2 Axes>"
      ]
     },
     "metadata": {
      "needs_background": "light"
     },
     "output_type": "display_data"
    }
   ],
   "source": [
    "DAY = 0\n",
    "INTERVAL = 10.0\n",
    "MIN, MAX = (0, 30)\n",
    "\n",
    "fig = plt.figure()\n",
    "ax = fig.add_subplot(111)\n",
    "\n",
    "img = ax.imshow(data[DAY][0], animated=True, cmap=cm.get_cmap('Greys'))\n",
    "img.set_clim(MIN, MAX)\n",
    "fig.colorbar(img)\n",
    "tx = ax.set_title(f'Frame - {0}')"
   ]
  },
  {
   "cell_type": "code",
   "execution_count": 4,
   "metadata": {},
   "outputs": [],
   "source": [
    "def animate(frame_number):\n",
    "    frame = data[DAY][frame_number]\n",
    "\n",
    "    img.set_data(frame)\n",
    "    tx.set_text(f'Frame - {frame_number}')"
   ]
  },
  {
   "cell_type": "code",
   "execution_count": 5,
   "metadata": {},
   "outputs": [],
   "source": [
    "ani = animation.FuncAnimation(fig, animate, frames=len(data[DAY]), repeat=False, interval=INTERVAL)\n",
    "plt.show()"
   ]
  },
  {
   "cell_type": "markdown",
   "metadata": {},
   "source": [
    "Since it has the vehicles count at each space division for every time intervals, we then need to get the maximum buses value in the first frame and its space division indexes and build a tracemap (rule: get the previous frame maximum indices, its neighbours and identify which of them has more buses)."
   ]
  },
  {
   "cell_type": "code",
   "execution_count": 63,
   "metadata": {},
   "outputs": [],
   "source": [
    "indexes = tuple(index[0] for index in np.where(data[DAY][0] == np.amax(data[DAY][0])))"
   ]
  },
  {
   "cell_type": "code",
   "execution_count": 52,
   "metadata": {},
   "outputs": [],
   "source": [
    "movements = [(-1, 1), (0, 1), (1, 1),\\\n",
    "             (-1, 0),         (1, 0),\\\n",
    "             (-1,-1), (0,-1), (1,-1)]"
   ]
  },
  {
   "cell_type": "code",
   "execution_count": 110,
   "metadata": {},
   "outputs": [],
   "source": [
    "MAX = len(data[DAY][0])\n",
    "\n",
    "def sum_tuples(movement, coordinates):\n",
    "    return tuple(map(sum, list(zip(movement, coordinates))))\n",
    "\n",
    "def generate_movements_indexes(coordinates):\n",
    "    return list(map(lambda movement: sum_tuples(movement, coordinates), movements))\n",
    "\n",
    "\n",
    "def is_valid_coordinate(coordinate):\n",
    "    x, y = coordinate\n",
    "    return x > 0 and y > 0 and \\\n",
    "           x < MAX and y < MAX\n",
    "\n",
    "def filter_valid_coordinates(movements_indexes):\n",
    "    return list(filter(is_valid_coordinate, movements_indexes))\n",
    "\n",
    "def get_value(coordinate, frame):\n",
    "    x, y = coordinate\n",
    "    return frame[x][y]\n",
    "\n",
    "def get_neighbours_values(valid_coordinates_list, step):\n",
    "    frame = data[DAY][step]\n",
    "    return list(map(lambda coordinate: tuple([coordinate, get_value(coordinate, frame)]), valid_coordinates_list))\n",
    "\n",
    "def get_max_value_neighbour_indexes(neighbours_values):\n",
    "    max_value = -1\n",
    "    max_value_neighbour_indexes = (0,0)\n",
    "\n",
    "    for coordinates, value in neighbours_values:\n",
    "        if value > max_value:\n",
    "            max_value = value\n",
    "            max_value_neighbour_indexes = coordinates\n",
    "    \n",
    "    return coordinates"
   ]
  },
  {
   "cell_type": "code",
   "execution_count": 117,
   "metadata": {},
   "outputs": [
    {
     "name": "stdout",
     "output_type": "stream",
     "text": [
      "[(9, 4), (1, 2), (3, 9), (1, 2), (8, 0), (9, 0), (6, 0), (9, 0), (9, 0), (9, 0), (9, 0), (9, 0), (9, 0), (8, 0), (9, 0), (9, 0), (9, 0), (6, 1), (0, 0), (3, 9), (3, 9), (3, 9), (3, 9), (3, 9), (3, 9), (3, 9), (3, 9), (3, 9), (9, 3), (3, 9), (3, 9), (2, 4), (2, 4), (2, 4), (9, 3), (2, 4), (3, 9), (3, 9), (9, 3), (3, 9), (3, 9), (2, 4), (2, 4), (3, 9), (3, 9), (2, 5), (9, 3), (3, 9), (3, 9), (3, 9), (2, 5), (3, 9), (3, 9), (3, 9), (2, 8), (3, 9), (3, 9), (3, 9), (2, 4), (2, 4), (3, 9), (2, 4), (3, 9), (3, 9), (3, 9), (2, 4), (3, 9), (3, 9), (3, 9), (3, 9), (3, 9), (0, 8), (2, 5), (0, 8), (2, 4), (2, 4), (2, 4), (2, 4), (3, 9), (2, 5), (2, 5), (3, 9), (3, 9), (3, 9), (3, 9), (3, 9), (3, 9), (3, 9), (3, 9), (3, 9), (2, 4), (3, 9), (1, 2), (0, 0), (0, 8), (2, 4)]\n"
     ]
    }
   ],
   "source": [
    "import random\n",
    "\n",
    "tracemap = list()\n",
    "STEPS_QUANTITY = len(data[DAY])\n",
    "\n",
    "for step in range(0, STEPS_QUANTITY):\n",
    "    ## This appends the indexes with greatest value in frame\n",
    "    coordinates = tuple(index[0] for index in np.where(data[DAY][step] == np.amax(data[DAY][step])))\n",
    "    tracemap.append(coordinates)\n",
    "\n",
    "    ## This appends the neighbour indexes with greatest value\n",
    "    # tracemap.append(coordinates)\n",
    "    # coordinates = get_max_value_neighbour_indexes(\n",
    "    #         get_neighbours_values(\n",
    "    #             filter_valid_coordinates(\n",
    "    #                 generate_movements_indexes(coordinates)\n",
    "    #             ),\n",
    "    #             step\n",
    "    #         )\n",
    "    #     )\n",
    "\n",
    "print(tracemap)"
   ]
  }
 ],
 "metadata": {
  "interpreter": {
   "hash": "31f2aee4e71d21fbe5cf8b01ff0e069b9275f58929596ceb00d14d90e3e16cd6"
  },
  "kernelspec": {
   "display_name": "Python 3.9.7 64-bit",
   "language": "python",
   "name": "python3"
  },
  "language_info": {
   "codemirror_mode": {
    "name": "ipython",
    "version": 3
   },
   "file_extension": ".py",
   "mimetype": "text/x-python",
   "name": "python",
   "nbconvert_exporter": "python",
   "pygments_lexer": "ipython3",
   "version": "3.9.7"
  },
  "orig_nbformat": 4
 },
 "nbformat": 4,
 "nbformat_minor": 2
}
